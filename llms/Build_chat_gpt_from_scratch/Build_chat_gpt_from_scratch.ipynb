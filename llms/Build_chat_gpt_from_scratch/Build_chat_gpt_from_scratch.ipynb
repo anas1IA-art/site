{
  "nbformat": 4,
  "nbformat_minor": 0,
  "metadata": {
    "colab": {
      "provenance": []
    },
    "kernelspec": {
      "name": "python3",
      "display_name": "Python 3"
    },
    "language_info": {
      "name": "python"
    }
  },
  "cells": [
    {
      "cell_type": "markdown",
      "source": [
        "## Building Chatgpt on based on paper \"Attention is all you need\""
      ],
      "metadata": {
        "id": "E6zSTWmQOSRo"
      }
    },
    {
      "cell_type": "markdown",
      "source": [
        "**GPT (Generative Pre-trained Transformer)** is a type of large language model developed by OpenAI that uses transformer architecture to generate human-like text based on input prompts. Its development was based on the paper \"[Improving Language Understanding by Generative Pre-Training](https://cdn.openai.com/research-covers/language-unsupervised/language_understanding_paper.pdf)\" published by OpenAI in 2018.\n",
        "\n",
        "The groundbreaking transformer model, which GPT builds upon, was introduced in the paper \"[Attention is All You Need](https://arxiv.org/abs/1706.03762)\" by Vaswani et al., published in 2017.\n"
      ],
      "metadata": {
        "id": "nxU7f2tdne9u"
      }
    },
    {
      "cell_type": "markdown",
      "source": [
        "This notebook contains the notes of **Andrej Karpathy** under the title of [Let's Build GPT: From Scratch, in Code, Spelled Out](https://www.youtube.com/watch?v=kCc8FmEb1nY) on his YouTube channel.\n"
      ],
      "metadata": {
        "id": "eqNHWinWrYZU"
      }
    },
    {
      "cell_type": "markdown",
      "source": [
        "## Let's  Prepare dataset"
      ],
      "metadata": {
        "id": "Skej0tXgxeuo"
      }
    },
    {
      "cell_type": "markdown",
      "source": [
        "In this tutorial, we utilize the Tiny Shakespeare dataset, a 1.06 MB text file that combines all the works of [William Shakespeare](https://raw.githubusercontent.com/karpathy/char-rnn/master/data/tinyshakespeare/input.txt).\n"
      ],
      "metadata": {
        "id": "mVWXF8ZrxuFO"
      }
    },
    {
      "cell_type": "code",
      "execution_count": null,
      "metadata": {
        "colab": {
          "base_uri": "https://localhost:8080/"
        },
        "id": "302Kf6qVNy_H",
        "outputId": "b89d56ff-d4bf-4f1c-cebd-ae3ebad44486"
      },
      "outputs": [
        {
          "output_type": "stream",
          "name": "stdout",
          "text": [
            "--2024-06-09 15:28:47--  https://raw.githubusercontent.com/karpathy/char-rnn/master/data/tinyshakespeare/input.txt\n",
            "Resolving raw.githubusercontent.com (raw.githubusercontent.com)... 185.199.111.133, 185.199.109.133, 185.199.108.133, ...\n",
            "Connecting to raw.githubusercontent.com (raw.githubusercontent.com)|185.199.111.133|:443... connected.\n",
            "HTTP request sent, awaiting response... 200 OK\n",
            "Length: 1115394 (1.1M) [text/plain]\n",
            "Saving to: ‘input.txt’\n",
            "\n",
            "input.txt           100%[===================>]   1.06M  --.-KB/s    in 0.06s   \n",
            "\n",
            "2024-06-09 15:28:47 (18.6 MB/s) - ‘input.txt’ saved [1115394/1115394]\n",
            "\n"
          ]
        }
      ],
      "source": [
        "!wget  https://raw.githubusercontent.com/karpathy/char-rnn/master/data/tinyshakespeare/input.txt"
      ]
    },
    {
      "cell_type": "code",
      "source": [
        "# Specifying `encoding='utf-8'` ensures that text files are read or written using the UTF-8 encoding, which supports a wide range of characters from various languages. Without this specification, the default system encoding is used, which can lead to inconsistencies and errors, especially with non-ASCII characters.\n",
        "with open('./input.txt','r',encoding  = 'utf-8') as f :\n",
        "  text = f.read()"
      ],
      "metadata": {
        "id": "D5ET7lxTOngT"
      },
      "execution_count": null,
      "outputs": []
    },
    {
      "cell_type": "code",
      "source": [
        "print(len(text))"
      ],
      "metadata": {
        "colab": {
          "base_uri": "https://localhost:8080/"
        },
        "id": "tD9X2XVbR3da",
        "outputId": "54196fd8-49b8-41bf-cb22-ade92bada2f6"
      },
      "execution_count": null,
      "outputs": [
        {
          "output_type": "stream",
          "name": "stdout",
          "text": [
            "1115394\n"
          ]
        }
      ]
    },
    {
      "cell_type": "code",
      "source": [
        "print(text[:11])"
      ],
      "metadata": {
        "colab": {
          "base_uri": "https://localhost:8080/"
        },
        "id": "Zhe2tMNyR7ru",
        "outputId": "d64c4ea6-c0bd-4315-f096-938530594125"
      },
      "execution_count": null,
      "outputs": [
        {
          "output_type": "stream",
          "name": "stdout",
          "text": [
            "First Citiz\n"
          ]
        }
      ]
    },
    {
      "cell_type": "code",
      "source": [
        "# here are all the unique characters that occur in this text\n",
        "chars = sorted(list(set(text)))\n",
        "voc_size = len(chars)\n",
        "print(''.join(chars))\n"
      ],
      "metadata": {
        "colab": {
          "base_uri": "https://localhost:8080/"
        },
        "id": "XYQsvMVeTbK4",
        "outputId": "875d4b65-a611-459c-ce97-3f5e16aaf21c"
      },
      "execution_count": null,
      "outputs": [
        {
          "output_type": "stream",
          "name": "stdout",
          "text": [
            "\n",
            " !$&',-.3:;?ABCDEFGHIJKLMNOPQRSTUVWXYZabcdefghijklmnopqrstuvwxyz\n"
          ]
        }
      ]
    },
    {
      "cell_type": "code",
      "source": [
        "# create a mapping from characters to integers using The `enumerate` function in Python adds a counter to an iterable and returns it as an enumerate object, providing both index and value pairs in loops.\n",
        "int_char = {i:ch for i,ch in enumerate(chars , start = 0)}\n",
        "char_int = {ch:i for i,ch in enumerate(chars , start = 0)}\n",
        "int_char[9],char_int['3']"
      ],
      "metadata": {
        "colab": {
          "base_uri": "https://localhost:8080/"
        },
        "id": "8NvehHhxWRMs",
        "outputId": "01cae365-66b1-4c42-93f8-85b44893b002"
      },
      "execution_count": null,
      "outputs": [
        {
          "output_type": "execute_result",
          "data": {
            "text/plain": [
              "('3', 9)"
            ]
          },
          "metadata": {},
          "execution_count": 7
        }
      ]
    },
    {
      "cell_type": "code",
      "source": [
        "sentence  = 'Anas Nouri'\n",
        "# encoder = {} # trasform a sentenece into presentation numeric\n",
        "encoder = lambda s : [char_int[a]for a in s]\n",
        "# encoder(sentence)\n",
        "decoder  =  lambda s : ''.join([int_char[a] for a in s ])\n",
        "decoder(encoder(sentence))"
      ],
      "metadata": {
        "colab": {
          "base_uri": "https://localhost:8080/",
          "height": 35
        },
        "id": "vOfYnME5YI5O",
        "outputId": "4ab844e1-94a5-44c9-e739-91b988ec19b8"
      },
      "execution_count": null,
      "outputs": [
        {
          "output_type": "execute_result",
          "data": {
            "text/plain": [
              "'Anas Nouri'"
            ],
            "application/vnd.google.colaboratory.intrinsic+json": {
              "type": "string"
            }
          },
          "metadata": {},
          "execution_count": 8
        }
      ]
    },
    {
      "cell_type": "code",
      "source": [
        "encoder(text[:10])"
      ],
      "metadata": {
        "colab": {
          "base_uri": "https://localhost:8080/"
        },
        "id": "dmCXPk4qlldT",
        "outputId": "5817d777-81e8-45ef-c0fb-186d87e7898e"
      },
      "execution_count": null,
      "outputs": [
        {
          "output_type": "execute_result",
          "data": {
            "text/plain": [
              "[18, 47, 56, 57, 58, 1, 15, 47, 58, 47]"
            ]
          },
          "metadata": {},
          "execution_count": 9
        }
      ]
    },
    {
      "cell_type": "code",
      "source": [
        "# let's now encode the entire text dataset and store it into a torch.Tensor\n",
        "import torch"
      ],
      "metadata": {
        "id": "PE2C1w6VdAnJ"
      },
      "execution_count": null,
      "outputs": []
    },
    {
      "cell_type": "code",
      "source": [
        "dataset = torch.tensor(encoder(text),dtype = torch.long)\n",
        "dataset"
      ],
      "metadata": {
        "colab": {
          "base_uri": "https://localhost:8080/"
        },
        "id": "a-WKGcmvWRO7",
        "outputId": "883a9619-21bb-4867-a69b-384cc88c0f36"
      },
      "execution_count": null,
      "outputs": [
        {
          "output_type": "execute_result",
          "data": {
            "text/plain": [
              "tensor([18, 47, 56,  ..., 45,  8,  0])"
            ]
          },
          "metadata": {},
          "execution_count": 11
        }
      ]
    },
    {
      "cell_type": "code",
      "source": [
        "dataset.unsqueeze(0)"
      ],
      "metadata": {
        "colab": {
          "base_uri": "https://localhost:8080/"
        },
        "id": "2yItrqgPlse6",
        "outputId": "ab3cfa2a-ee08-4bf3-91f2-1626abef9f05"
      },
      "execution_count": null,
      "outputs": [
        {
          "output_type": "execute_result",
          "data": {
            "text/plain": [
              "tensor([[18, 47, 56,  ..., 45,  8,  0]])"
            ]
          },
          "metadata": {},
          "execution_count": 12
        }
      ]
    },
    {
      "cell_type": "code",
      "source": [
        "dataset.squeeze(0)"
      ],
      "metadata": {
        "colab": {
          "base_uri": "https://localhost:8080/"
        },
        "id": "v3APD5vDl6Ux",
        "outputId": "0026c5de-fbce-4097-dbee-082ea5315e3f"
      },
      "execution_count": null,
      "outputs": [
        {
          "output_type": "execute_result",
          "data": {
            "text/plain": [
              "tensor([18, 47, 56,  ..., 45,  8,  0])"
            ]
          },
          "metadata": {},
          "execution_count": 13
        }
      ]
    },
    {
      "cell_type": "code",
      "source": [
        "# Let's now split up the data into train and validation sets\n",
        "n = int(0.8*len(dataset))\n",
        "train_data = dataset[:n]\n",
        "validation_data = dataset[n:]"
      ],
      "metadata": {
        "id": "12TJPSWumRc-"
      },
      "execution_count": null,
      "outputs": []
    },
    {
      "cell_type": "code",
      "source": [
        "Block_size = 10\n",
        "train_data = dataset[:Block_size]\n",
        "target_data = dataset[1:Block_size+1]\n",
        "train_data"
      ],
      "metadata": {
        "colab": {
          "base_uri": "https://localhost:8080/"
        },
        "id": "u55lQLr3o-o1",
        "outputId": "e06505e1-e9a9-4c05-fa83-f24c2e8fe782"
      },
      "execution_count": null,
      "outputs": [
        {
          "output_type": "execute_result",
          "data": {
            "text/plain": [
              "tensor([18, 47, 56, 57, 58,  1, 15, 47, 58, 47])"
            ]
          },
          "metadata": {},
          "execution_count": 15
        }
      ]
    },
    {
      "cell_type": "code",
      "source": [
        "target_data"
      ],
      "metadata": {
        "colab": {
          "base_uri": "https://localhost:8080/"
        },
        "id": "tWfmguUjsqDT",
        "outputId": "4074ba19-ef3a-43c7-89eb-8edeb76b9de4"
      },
      "execution_count": null,
      "outputs": [
        {
          "output_type": "execute_result",
          "data": {
            "text/plain": [
              "tensor([47, 56, 57, 58,  1, 15, 47, 58, 47, 64])"
            ]
          },
          "metadata": {},
          "execution_count": 16
        }
      ]
    },
    {
      "cell_type": "code",
      "source": [
        "len(target_data),len(train_data)"
      ],
      "metadata": {
        "colab": {
          "base_uri": "https://localhost:8080/"
        },
        "id": "WUZDfrk5pit4",
        "outputId": "f67f73da-6d41-4867-d6f5-c55b8f704297"
      },
      "execution_count": null,
      "outputs": [
        {
          "output_type": "execute_result",
          "data": {
            "text/plain": [
              "(10, 10)"
            ]
          },
          "metadata": {},
          "execution_count": 17
        }
      ]
    },
    {
      "cell_type": "code",
      "source": [
        "for t in range(Block_size):\n",
        "    x = train_data[:t+1]\n",
        "    y = target_data[t]\n",
        "    print(f\"input is {x} and target is {y}\")"
      ],
      "metadata": {
        "colab": {
          "base_uri": "https://localhost:8080/"
        },
        "id": "O4NwzEjFpxWg",
        "outputId": "b34f69ec-5451-4aea-e3fe-888b7ed5558c"
      },
      "execution_count": null,
      "outputs": [
        {
          "output_type": "stream",
          "name": "stdout",
          "text": [
            "input is tensor([18]) and target is 47\n",
            "input is tensor([18, 47]) and target is 56\n",
            "input is tensor([18, 47, 56]) and target is 57\n",
            "input is tensor([18, 47, 56, 57]) and target is 58\n",
            "input is tensor([18, 47, 56, 57, 58]) and target is 1\n",
            "input is tensor([18, 47, 56, 57, 58,  1]) and target is 15\n",
            "input is tensor([18, 47, 56, 57, 58,  1, 15]) and target is 47\n",
            "input is tensor([18, 47, 56, 57, 58,  1, 15, 47]) and target is 58\n",
            "input is tensor([18, 47, 56, 57, 58,  1, 15, 47, 58]) and target is 47\n",
            "input is tensor([18, 47, 56, 57, 58,  1, 15, 47, 58, 47]) and target is 64\n"
          ]
        }
      ]
    },
    {
      "cell_type": "code",
      "source": [
        "torch.manual_seed(1337)\n",
        "batch_size = 6 # how many independent sequences will we process in parallel?\n",
        "block_size = 10 # what is the maximum context length for predictions?"
      ],
      "metadata": {
        "id": "vGvJMluPswT5"
      },
      "execution_count": null,
      "outputs": []
    },
    {
      "cell_type": "code",
      "source": [
        "ix = torch.randint(len(dataset) - block_size, (batch_size,))"
      ],
      "metadata": {
        "id": "2Rdmpw1at17z"
      },
      "execution_count": null,
      "outputs": []
    },
    {
      "cell_type": "code",
      "source": [
        "ix"
      ],
      "metadata": {
        "colab": {
          "base_uri": "https://localhost:8080/"
        },
        "id": "ufmy61xOuISo",
        "outputId": "d9d78a7c-d422-4875-e451-df2b618693cd"
      },
      "execution_count": null,
      "outputs": [
        {
          "output_type": "execute_result",
          "data": {
            "text/plain": [
              "tensor([1080343,  458285,   42868,  672888, 1083415,  245809])"
            ]
          },
          "metadata": {},
          "execution_count": 21
        }
      ]
    },
    {
      "cell_type": "code",
      "source": [],
      "metadata": {
        "id": "IANais9CuI5D"
      },
      "execution_count": null,
      "outputs": []
    }
  ]
}